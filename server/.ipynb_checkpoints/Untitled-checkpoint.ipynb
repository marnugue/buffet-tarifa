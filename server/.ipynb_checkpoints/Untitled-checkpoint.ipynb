{
 "cells": [
  {
   "cell_type": "code",
   "execution_count": 6,
   "id": "2940a354-600d-4220-9040-0b6a57a5e739",
   "metadata": {},
   "outputs": [
    {
     "name": "stdout",
     "output_type": "stream",
     "text": [
      "Requirement already satisfied: Pillow in c:\\users\\usuario\\desktop\\fotos despacho posibles\\fotos 26-12-22\\.venv\\lib\\site-packages (9.3.0)\n",
      "Collecting glob2\n",
      "  Downloading glob2-0.7.tar.gz (10 kB)\n",
      "  Preparing metadata (setup.py): started\n",
      "  Preparing metadata (setup.py): finished with status 'done'\n",
      "Building wheels for collected packages: glob2\n",
      "  Building wheel for glob2 (setup.py): started\n",
      "  Building wheel for glob2 (setup.py): finished with status 'done'\n",
      "  Created wheel for glob2: filename=glob2-0.7-py2.py3-none-any.whl size=9311 sha256=c79d87d359034f0c306eb6983c0bb5a15eebf8bead9d4b51a26a47eb7c8f9e65\n",
      "  Stored in directory: c:\\users\\usuario\\appdata\\local\\pip\\cache\\wheels\\f7\\ba\\d7\\aace15efcaea623e0e62fa8463e01b76b28aeea347f194acbb\n",
      "Successfully built glob2\n",
      "Installing collected packages: glob2\n",
      "Successfully installed glob2-0.7\n"
     ]
    }
   ],
   "source": [
    "!pip install Pillow glob2"
   ]
  },
  {
   "cell_type": "code",
   "execution_count": 8,
   "id": "97acfce9-b972-4bff-8204-278bb4cbef9f",
   "metadata": {},
   "outputs": [],
   "source": [
    "from PIL import Image, ImageFilter\n",
    "from glob import glob"
   ]
  },
  {
   "cell_type": "code",
   "execution_count": 4,
   "id": "fb2bcbbc-16bf-4d83-ae73-252fa40c2d5e",
   "metadata": {},
   "outputs": [],
   "source": [
    " from PIL import Image\n",
    "\n",
    "# Open the image\n",
    "im = Image.open('./DSC_0030.JPG')\n",
    "\n",
    "# Resize the image to a smaller size\n",
    "\n",
    "# Save the resized image\n",
    "im.save('compression.jpg',quality=10)\n"
   ]
  },
  {
   "cell_type": "code",
   "execution_count": 14,
   "id": "5d4913a1-1716-420f-9364-5ad857db42d2",
   "metadata": {},
   "outputs": [],
   "source": [
    "for img in glob(\"*.JPG\"):\n",
    "    im = Image.open(img)\n",
    "    im = im.filter(ImageFilter.GaussianBlur(10))\n",
    "    im.save(f'compressed/compressed-{img}',quality=10)"
   ]
  },
  {
   "cell_type": "code",
   "execution_count": null,
   "id": "6d56c554-76f4-4c9a-a09d-abade4eeb7f0",
   "metadata": {},
   "outputs": [],
   "source": []
  }
 ],
 "metadata": {
  "kernelspec": {
   "display_name": "Python 3 (ipykernel)",
   "language": "python",
   "name": "python3"
  },
  "language_info": {
   "codemirror_mode": {
    "name": "ipython",
    "version": 3
   },
   "file_extension": ".py",
   "mimetype": "text/x-python",
   "name": "python",
   "nbconvert_exporter": "python",
   "pygments_lexer": "ipython3",
   "version": "3.10.9"
  }
 },
 "nbformat": 4,
 "nbformat_minor": 5
}
