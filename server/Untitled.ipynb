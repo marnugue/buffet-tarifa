{
 "cells": [
  {
   "cell_type": "code",
   "execution_count": 1,
   "id": "2940a354-600d-4220-9040-0b6a57a5e739",
   "metadata": {},
   "outputs": [
    {
     "name": "stdout",
     "output_type": "stream",
     "text": [
      "Requirement already satisfied: Pillow in c:\\users\\usuario\\documents\\buffet-tarifa\\.venv\\lib\\site-packages (9.3.0)\n",
      "Collecting glob2\n",
      "  Using cached glob2-0.7-py2.py3-none-any.whl\n",
      "Installing collected packages: glob2\n",
      "Successfully installed glob2-0.7\n"
     ]
    }
   ],
   "source": [
    "!pip install Pillow glob2"
   ]
  },
  {
   "cell_type": "code",
   "execution_count": 3,
   "id": "97acfce9-b972-4bff-8204-278bb4cbef9f",
   "metadata": {},
   "outputs": [],
   "source": [
    "from PIL import Image, ImageFilter\n",
    "from glob import glob\n",
    "import os"
   ]
  },
  {
   "cell_type": "code",
   "execution_count": 4,
   "id": "fb2bcbbc-16bf-4d83-ae73-252fa40c2d5e",
   "metadata": {},
   "outputs": [],
   "source": [
    " from PIL import Image\n",
    "\n",
    "# Open the image\n",
    "im = Image.open('./DSC_0030.JPG')\n",
    "\n",
    "# Resize the image to a smaller size\n",
    "\n",
    "# Save the resized image\n",
    "im.save('compression.jpg',quality=10)\n"
   ]
  },
  {
   "cell_type": "code",
   "execution_count": 10,
   "id": "5d4913a1-1716-420f-9364-5ad857db42d2",
   "metadata": {},
   "outputs": [],
   "source": [
    "if not os.path.exists(\"../public/compressed\"):\n",
    "    os.makedirs(\"../public/compressed\")\n",
    "    \n",
    "for img in glob(\"../public/*.JPG\"):\n",
    "    im = Image.open(img)\n",
    "    im = im.filter(ImageFilter.GaussianBlur(10))\n",
    "    im.save(f'../public/compressed/compressed-{os.path.basename(img)}',quality=10)"
   ]
  },
  {
   "cell_type": "code",
   "execution_count": null,
   "id": "6d56c554-76f4-4c9a-a09d-abade4eeb7f0",
   "metadata": {},
   "outputs": [],
   "source": []
  }
 ],
 "metadata": {
  "kernelspec": {
   "display_name": "Python 3 (ipykernel)",
   "language": "python",
   "name": "python3"
  },
  "language_info": {
   "codemirror_mode": {
    "name": "ipython",
    "version": 3
   },
   "file_extension": ".py",
   "mimetype": "text/x-python",
   "name": "python",
   "nbconvert_exporter": "python",
   "pygments_lexer": "ipython3",
   "version": "3.10.9"
  }
 },
 "nbformat": 4,
 "nbformat_minor": 5
}
